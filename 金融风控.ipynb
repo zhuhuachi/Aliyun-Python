{
  "nbformat": 4,
  "nbformat_minor": 0,
  "metadata": {
    "colab": {
      "name": "金融风控.ipynb",
      "provenance": [],
      "authorship_tag": "ABX9TyNZR++O9lF81UhtxrExs/UX",
      "include_colab_link": true
    },
    "kernelspec": {
      "name": "python3",
      "display_name": "Python 3"
    },
    "language_info": {
      "name": "python"
    }
  },
  "cells": [
    {
      "cell_type": "markdown",
      "metadata": {
        "id": "view-in-github",
        "colab_type": "text"
      },
      "source": [
        "<a href=\"https://colab.research.google.com/github/zhuhuachi/Aliyun-Python/blob/main/%E9%87%91%E8%9E%8D%E9%A3%8E%E6%8E%A7.ipynb\" target=\"_parent\"><img src=\"https://colab.research.google.com/assets/colab-badge.svg\" alt=\"Open In Colab\"/></a>"
      ]
    },
    {
      "cell_type": "code",
      "execution_count": 1,
      "metadata": {
        "colab": {
          "base_uri": "https://localhost:8080/"
        },
        "id": "Qxdivmb0ysr8",
        "outputId": "a682f360-5e23-41e9-f21f-a474220af5c3"
      },
      "outputs": [
        {
          "output_type": "stream",
          "name": "stdout",
          "text": [
            "Mounted at /content/drive\n"
          ]
        }
      ],
      "source": [
        "from google.colab import drive\n",
        "drive.mount('/content/drive')"
      ]
    },
    {
      "cell_type": "code",
      "source": [
        "import pandas as pd\n",
        "import numpy as np\n",
        "import matplotlib.pyplot as plt\n",
        "import seaborn as sns\n",
        "import datetime\n",
        "import warnings\n",
        "warnings.filterwarnings('ignore')"
      ],
      "metadata": {
        "id": "z18xQ4x71O8R"
      },
      "execution_count": 8,
      "outputs": []
    },
    {
      "cell_type": "code",
      "source": [
        "testA = pd.read_csv('/content/drive/MyDrive/testA.csv')\n",
        "train = pd.read_csv('/content/drive/MyDrive/train.csv')"
      ],
      "metadata": {
        "id": "Wbq-xcc01dq8"
      },
      "execution_count": 5,
      "outputs": []
    },
    {
      "cell_type": "code",
      "source": [
        "print('Train data shape:',train.shape)\n",
        "print('TestA data shape:',testA.shape)"
      ],
      "metadata": {
        "colab": {
          "base_uri": "https://localhost:8080/"
        },
        "id": "w0iezWmK1t8P",
        "outputId": "3793ad02-02d8-400f-9ba7-ebcdd672293c"
      },
      "execution_count": 6,
      "outputs": [
        {
          "output_type": "stream",
          "name": "stdout",
          "text": [
            "Train data shape: (800000, 47)\n",
            "TestA data shape: (200000, 46)\n"
          ]
        }
      ]
    },
    {
      "cell_type": "code",
      "source": [
        "train.head()"
      ],
      "metadata": {
        "colab": {
          "base_uri": "https://localhost:8080/",
          "height": 299
        },
        "id": "IYlF9Oyt17LH",
        "outputId": "4865cb21-0b92-4496-c9dd-f0e4800752ec"
      },
      "execution_count": 7,
      "outputs": [
        {
          "output_type": "execute_result",
          "data": {
            "text/plain": [
              "   id  loanAmnt  term  interestRate  installment grade subGrade  \\\n",
              "0   0   35000.0     5         19.52       917.97     E       E2   \n",
              "1   1   18000.0     5         18.49       461.90     D       D2   \n",
              "2   2   12000.0     5         16.99       298.17     D       D3   \n",
              "3   3   11000.0     3          7.26       340.96     A       A4   \n",
              "4   4    3000.0     3         12.99       101.07     C       C2   \n",
              "\n",
              "   employmentTitle employmentLength  homeOwnership  ...    n5    n6    n7  \\\n",
              "0            320.0          2 years              2  ...   9.0   8.0   4.0   \n",
              "1         219843.0          5 years              0  ...   NaN   NaN   NaN   \n",
              "2          31698.0          8 years              0  ...   0.0  21.0   4.0   \n",
              "3          46854.0        10+ years              1  ...  16.0   4.0   7.0   \n",
              "4             54.0              NaN              1  ...   4.0   9.0  10.0   \n",
              "\n",
              "     n8   n9   n10  n11  n12  n13  n14  \n",
              "0  12.0  2.0   7.0  0.0  0.0  0.0  2.0  \n",
              "1   NaN  NaN  13.0  NaN  NaN  NaN  NaN  \n",
              "2   5.0  3.0  11.0  0.0  0.0  0.0  4.0  \n",
              "3  21.0  6.0   9.0  0.0  0.0  0.0  1.0  \n",
              "4  15.0  7.0  12.0  0.0  0.0  0.0  4.0  \n",
              "\n",
              "[5 rows x 47 columns]"
            ],
            "text/html": [
              "\n",
              "  <div id=\"df-e996faf9-cae5-473a-bc82-c8aec377b1c2\">\n",
              "    <div class=\"colab-df-container\">\n",
              "      <div>\n",
              "<style scoped>\n",
              "    .dataframe tbody tr th:only-of-type {\n",
              "        vertical-align: middle;\n",
              "    }\n",
              "\n",
              "    .dataframe tbody tr th {\n",
              "        vertical-align: top;\n",
              "    }\n",
              "\n",
              "    .dataframe thead th {\n",
              "        text-align: right;\n",
              "    }\n",
              "</style>\n",
              "<table border=\"1\" class=\"dataframe\">\n",
              "  <thead>\n",
              "    <tr style=\"text-align: right;\">\n",
              "      <th></th>\n",
              "      <th>id</th>\n",
              "      <th>loanAmnt</th>\n",
              "      <th>term</th>\n",
              "      <th>interestRate</th>\n",
              "      <th>installment</th>\n",
              "      <th>grade</th>\n",
              "      <th>subGrade</th>\n",
              "      <th>employmentTitle</th>\n",
              "      <th>employmentLength</th>\n",
              "      <th>homeOwnership</th>\n",
              "      <th>...</th>\n",
              "      <th>n5</th>\n",
              "      <th>n6</th>\n",
              "      <th>n7</th>\n",
              "      <th>n8</th>\n",
              "      <th>n9</th>\n",
              "      <th>n10</th>\n",
              "      <th>n11</th>\n",
              "      <th>n12</th>\n",
              "      <th>n13</th>\n",
              "      <th>n14</th>\n",
              "    </tr>\n",
              "  </thead>\n",
              "  <tbody>\n",
              "    <tr>\n",
              "      <th>0</th>\n",
              "      <td>0</td>\n",
              "      <td>35000.0</td>\n",
              "      <td>5</td>\n",
              "      <td>19.52</td>\n",
              "      <td>917.97</td>\n",
              "      <td>E</td>\n",
              "      <td>E2</td>\n",
              "      <td>320.0</td>\n",
              "      <td>2 years</td>\n",
              "      <td>2</td>\n",
              "      <td>...</td>\n",
              "      <td>9.0</td>\n",
              "      <td>8.0</td>\n",
              "      <td>4.0</td>\n",
              "      <td>12.0</td>\n",
              "      <td>2.0</td>\n",
              "      <td>7.0</td>\n",
              "      <td>0.0</td>\n",
              "      <td>0.0</td>\n",
              "      <td>0.0</td>\n",
              "      <td>2.0</td>\n",
              "    </tr>\n",
              "    <tr>\n",
              "      <th>1</th>\n",
              "      <td>1</td>\n",
              "      <td>18000.0</td>\n",
              "      <td>5</td>\n",
              "      <td>18.49</td>\n",
              "      <td>461.90</td>\n",
              "      <td>D</td>\n",
              "      <td>D2</td>\n",
              "      <td>219843.0</td>\n",
              "      <td>5 years</td>\n",
              "      <td>0</td>\n",
              "      <td>...</td>\n",
              "      <td>NaN</td>\n",
              "      <td>NaN</td>\n",
              "      <td>NaN</td>\n",
              "      <td>NaN</td>\n",
              "      <td>NaN</td>\n",
              "      <td>13.0</td>\n",
              "      <td>NaN</td>\n",
              "      <td>NaN</td>\n",
              "      <td>NaN</td>\n",
              "      <td>NaN</td>\n",
              "    </tr>\n",
              "    <tr>\n",
              "      <th>2</th>\n",
              "      <td>2</td>\n",
              "      <td>12000.0</td>\n",
              "      <td>5</td>\n",
              "      <td>16.99</td>\n",
              "      <td>298.17</td>\n",
              "      <td>D</td>\n",
              "      <td>D3</td>\n",
              "      <td>31698.0</td>\n",
              "      <td>8 years</td>\n",
              "      <td>0</td>\n",
              "      <td>...</td>\n",
              "      <td>0.0</td>\n",
              "      <td>21.0</td>\n",
              "      <td>4.0</td>\n",
              "      <td>5.0</td>\n",
              "      <td>3.0</td>\n",
              "      <td>11.0</td>\n",
              "      <td>0.0</td>\n",
              "      <td>0.0</td>\n",
              "      <td>0.0</td>\n",
              "      <td>4.0</td>\n",
              "    </tr>\n",
              "    <tr>\n",
              "      <th>3</th>\n",
              "      <td>3</td>\n",
              "      <td>11000.0</td>\n",
              "      <td>3</td>\n",
              "      <td>7.26</td>\n",
              "      <td>340.96</td>\n",
              "      <td>A</td>\n",
              "      <td>A4</td>\n",
              "      <td>46854.0</td>\n",
              "      <td>10+ years</td>\n",
              "      <td>1</td>\n",
              "      <td>...</td>\n",
              "      <td>16.0</td>\n",
              "      <td>4.0</td>\n",
              "      <td>7.0</td>\n",
              "      <td>21.0</td>\n",
              "      <td>6.0</td>\n",
              "      <td>9.0</td>\n",
              "      <td>0.0</td>\n",
              "      <td>0.0</td>\n",
              "      <td>0.0</td>\n",
              "      <td>1.0</td>\n",
              "    </tr>\n",
              "    <tr>\n",
              "      <th>4</th>\n",
              "      <td>4</td>\n",
              "      <td>3000.0</td>\n",
              "      <td>3</td>\n",
              "      <td>12.99</td>\n",
              "      <td>101.07</td>\n",
              "      <td>C</td>\n",
              "      <td>C2</td>\n",
              "      <td>54.0</td>\n",
              "      <td>NaN</td>\n",
              "      <td>1</td>\n",
              "      <td>...</td>\n",
              "      <td>4.0</td>\n",
              "      <td>9.0</td>\n",
              "      <td>10.0</td>\n",
              "      <td>15.0</td>\n",
              "      <td>7.0</td>\n",
              "      <td>12.0</td>\n",
              "      <td>0.0</td>\n",
              "      <td>0.0</td>\n",
              "      <td>0.0</td>\n",
              "      <td>4.0</td>\n",
              "    </tr>\n",
              "  </tbody>\n",
              "</table>\n",
              "<p>5 rows × 47 columns</p>\n",
              "</div>\n",
              "      <button class=\"colab-df-convert\" onclick=\"convertToInteractive('df-e996faf9-cae5-473a-bc82-c8aec377b1c2')\"\n",
              "              title=\"Convert this dataframe to an interactive table.\"\n",
              "              style=\"display:none;\">\n",
              "        \n",
              "  <svg xmlns=\"http://www.w3.org/2000/svg\" height=\"24px\"viewBox=\"0 0 24 24\"\n",
              "       width=\"24px\">\n",
              "    <path d=\"M0 0h24v24H0V0z\" fill=\"none\"/>\n",
              "    <path d=\"M18.56 5.44l.94 2.06.94-2.06 2.06-.94-2.06-.94-.94-2.06-.94 2.06-2.06.94zm-11 1L8.5 8.5l.94-2.06 2.06-.94-2.06-.94L8.5 2.5l-.94 2.06-2.06.94zm10 10l.94 2.06.94-2.06 2.06-.94-2.06-.94-.94-2.06-.94 2.06-2.06.94z\"/><path d=\"M17.41 7.96l-1.37-1.37c-.4-.4-.92-.59-1.43-.59-.52 0-1.04.2-1.43.59L10.3 9.45l-7.72 7.72c-.78.78-.78 2.05 0 2.83L4 21.41c.39.39.9.59 1.41.59.51 0 1.02-.2 1.41-.59l7.78-7.78 2.81-2.81c.8-.78.8-2.07 0-2.86zM5.41 20L4 18.59l7.72-7.72 1.47 1.35L5.41 20z\"/>\n",
              "  </svg>\n",
              "      </button>\n",
              "      \n",
              "  <style>\n",
              "    .colab-df-container {\n",
              "      display:flex;\n",
              "      flex-wrap:wrap;\n",
              "      gap: 12px;\n",
              "    }\n",
              "\n",
              "    .colab-df-convert {\n",
              "      background-color: #E8F0FE;\n",
              "      border: none;\n",
              "      border-radius: 50%;\n",
              "      cursor: pointer;\n",
              "      display: none;\n",
              "      fill: #1967D2;\n",
              "      height: 32px;\n",
              "      padding: 0 0 0 0;\n",
              "      width: 32px;\n",
              "    }\n",
              "\n",
              "    .colab-df-convert:hover {\n",
              "      background-color: #E2EBFA;\n",
              "      box-shadow: 0px 1px 2px rgba(60, 64, 67, 0.3), 0px 1px 3px 1px rgba(60, 64, 67, 0.15);\n",
              "      fill: #174EA6;\n",
              "    }\n",
              "\n",
              "    [theme=dark] .colab-df-convert {\n",
              "      background-color: #3B4455;\n",
              "      fill: #D2E3FC;\n",
              "    }\n",
              "\n",
              "    [theme=dark] .colab-df-convert:hover {\n",
              "      background-color: #434B5C;\n",
              "      box-shadow: 0px 1px 3px 1px rgba(0, 0, 0, 0.15);\n",
              "      filter: drop-shadow(0px 1px 2px rgba(0, 0, 0, 0.3));\n",
              "      fill: #FFFFFF;\n",
              "    }\n",
              "  </style>\n",
              "\n",
              "      <script>\n",
              "        const buttonEl =\n",
              "          document.querySelector('#df-e996faf9-cae5-473a-bc82-c8aec377b1c2 button.colab-df-convert');\n",
              "        buttonEl.style.display =\n",
              "          google.colab.kernel.accessAllowed ? 'block' : 'none';\n",
              "\n",
              "        async function convertToInteractive(key) {\n",
              "          const element = document.querySelector('#df-e996faf9-cae5-473a-bc82-c8aec377b1c2');\n",
              "          const dataTable =\n",
              "            await google.colab.kernel.invokeFunction('convertToInteractive',\n",
              "                                                     [key], {});\n",
              "          if (!dataTable) return;\n",
              "\n",
              "          const docLinkHtml = 'Like what you see? Visit the ' +\n",
              "            '<a target=\"_blank\" href=https://colab.research.google.com/notebooks/data_table.ipynb>data table notebook</a>'\n",
              "            + ' to learn more about interactive tables.';\n",
              "          element.innerHTML = '';\n",
              "          dataTable['output_type'] = 'display_data';\n",
              "          await google.colab.output.renderOutput(dataTable, element);\n",
              "          const docLink = document.createElement('div');\n",
              "          docLink.innerHTML = docLinkHtml;\n",
              "          element.appendChild(docLink);\n",
              "        }\n",
              "      </script>\n",
              "    </div>\n",
              "  </div>\n",
              "  "
            ]
          },
          "metadata": {},
          "execution_count": 7
        }
      ]
    },
    {
      "cell_type": "code",
      "source": [
        "data_test_a = pd.read_csv('/content/drive/MyDrive/testA.csv')\n",
        "data_train = pd.read_csv('/content/drive/MyDrive/train.csv')"
      ],
      "metadata": {
        "id": "aLxtgAGa2bXU"
      },
      "execution_count": 9,
      "outputs": []
    },
    {
      "cell_type": "code",
      "source": [
        "data_train.columns"
      ],
      "metadata": {
        "colab": {
          "base_uri": "https://localhost:8080/"
        },
        "id": "OT5jBmHh2kDX",
        "outputId": "12262feb-e90b-4903-98db-143b99cc3ffe"
      },
      "execution_count": 10,
      "outputs": [
        {
          "output_type": "execute_result",
          "data": {
            "text/plain": [
              "Index(['id', 'loanAmnt', 'term', 'interestRate', 'installment', 'grade',\n",
              "       'subGrade', 'employmentTitle', 'employmentLength', 'homeOwnership',\n",
              "       'annualIncome', 'verificationStatus', 'issueDate', 'isDefault',\n",
              "       'purpose', 'postCode', 'regionCode', 'dti', 'delinquency_2years',\n",
              "       'ficoRangeLow', 'ficoRangeHigh', 'openAcc', 'pubRec',\n",
              "       'pubRecBankruptcies', 'revolBal', 'revolUtil', 'totalAcc',\n",
              "       'initialListStatus', 'applicationType', 'earliesCreditLine', 'title',\n",
              "       'policyCode', 'n0', 'n1', 'n2', 'n3', 'n4', 'n5', 'n6', 'n7', 'n8',\n",
              "       'n9', 'n10', 'n11', 'n12', 'n13', 'n14'],\n",
              "      dtype='object')"
            ]
          },
          "metadata": {},
          "execution_count": 10
        }
      ]
    },
    {
      "cell_type": "code",
      "source": [
        "data_train.info()"
      ],
      "metadata": {
        "colab": {
          "base_uri": "https://localhost:8080/"
        },
        "id": "N1CwAE7G2nAF",
        "outputId": "e412b68a-44ba-4b48-d7db-c550a77e499f"
      },
      "execution_count": 11,
      "outputs": [
        {
          "output_type": "stream",
          "name": "stdout",
          "text": [
            "<class 'pandas.core.frame.DataFrame'>\n",
            "RangeIndex: 800000 entries, 0 to 799999\n",
            "Data columns (total 47 columns):\n",
            " #   Column              Non-Null Count   Dtype  \n",
            "---  ------              --------------   -----  \n",
            " 0   id                  800000 non-null  int64  \n",
            " 1   loanAmnt            800000 non-null  float64\n",
            " 2   term                800000 non-null  int64  \n",
            " 3   interestRate        800000 non-null  float64\n",
            " 4   installment         800000 non-null  float64\n",
            " 5   grade               800000 non-null  object \n",
            " 6   subGrade            800000 non-null  object \n",
            " 7   employmentTitle     799999 non-null  float64\n",
            " 8   employmentLength    753201 non-null  object \n",
            " 9   homeOwnership       800000 non-null  int64  \n",
            " 10  annualIncome        800000 non-null  float64\n",
            " 11  verificationStatus  800000 non-null  int64  \n",
            " 12  issueDate           800000 non-null  object \n",
            " 13  isDefault           800000 non-null  int64  \n",
            " 14  purpose             800000 non-null  int64  \n",
            " 15  postCode            799999 non-null  float64\n",
            " 16  regionCode          800000 non-null  int64  \n",
            " 17  dti                 799761 non-null  float64\n",
            " 18  delinquency_2years  800000 non-null  float64\n",
            " 19  ficoRangeLow        800000 non-null  float64\n",
            " 20  ficoRangeHigh       800000 non-null  float64\n",
            " 21  openAcc             800000 non-null  float64\n",
            " 22  pubRec              800000 non-null  float64\n",
            " 23  pubRecBankruptcies  799595 non-null  float64\n",
            " 24  revolBal            800000 non-null  float64\n",
            " 25  revolUtil           799469 non-null  float64\n",
            " 26  totalAcc            800000 non-null  float64\n",
            " 27  initialListStatus   800000 non-null  int64  \n",
            " 28  applicationType     800000 non-null  int64  \n",
            " 29  earliesCreditLine   800000 non-null  object \n",
            " 30  title               799999 non-null  float64\n",
            " 31  policyCode          800000 non-null  float64\n",
            " 32  n0                  759730 non-null  float64\n",
            " 33  n1                  759730 non-null  float64\n",
            " 34  n2                  759730 non-null  float64\n",
            " 35  n3                  759730 non-null  float64\n",
            " 36  n4                  766761 non-null  float64\n",
            " 37  n5                  759730 non-null  float64\n",
            " 38  n6                  759730 non-null  float64\n",
            " 39  n7                  759730 non-null  float64\n",
            " 40  n8                  759729 non-null  float64\n",
            " 41  n9                  759730 non-null  float64\n",
            " 42  n10                 766761 non-null  float64\n",
            " 43  n11                 730248 non-null  float64\n",
            " 44  n12                 759730 non-null  float64\n",
            " 45  n13                 759730 non-null  float64\n",
            " 46  n14                 759730 non-null  float64\n",
            "dtypes: float64(33), int64(9), object(5)\n",
            "memory usage: 286.9+ MB\n"
          ]
        }
      ]
    },
    {
      "cell_type": "code",
      "source": [
        "data_train.describe()"
      ],
      "metadata": {
        "colab": {
          "base_uri": "https://localhost:8080/",
          "height": 394
        },
        "id": "_WbyYRio2tfc",
        "outputId": "53b3f5d4-a60f-4ece-b2a3-2acc3de36573"
      },
      "execution_count": 12,
      "outputs": [
        {
          "output_type": "execute_result",
          "data": {
            "text/plain": [
              "                  id       loanAmnt           term   interestRate  \\\n",
              "count  800000.000000  800000.000000  800000.000000  800000.000000   \n",
              "mean   399999.500000   14416.818875       3.482745      13.238391   \n",
              "std    230940.252013    8716.086178       0.855832       4.765757   \n",
              "min         0.000000     500.000000       3.000000       5.310000   \n",
              "25%    199999.750000    8000.000000       3.000000       9.750000   \n",
              "50%    399999.500000   12000.000000       3.000000      12.740000   \n",
              "75%    599999.250000   20000.000000       3.000000      15.990000   \n",
              "max    799999.000000   40000.000000       5.000000      30.990000   \n",
              "\n",
              "         installment  employmentTitle  homeOwnership  annualIncome  \\\n",
              "count  800000.000000    799999.000000  800000.000000  8.000000e+05   \n",
              "mean      437.947723     72005.351714       0.614213  7.613391e+04   \n",
              "std       261.460393    106585.640204       0.675749  6.894751e+04   \n",
              "min        15.690000         0.000000       0.000000  0.000000e+00   \n",
              "25%       248.450000       427.000000       0.000000  4.560000e+04   \n",
              "50%       375.135000      7755.000000       1.000000  6.500000e+04   \n",
              "75%       580.710000    117663.500000       1.000000  9.000000e+04   \n",
              "max      1715.420000    378351.000000       5.000000  1.099920e+07   \n",
              "\n",
              "       verificationStatus      isDefault  ...             n5             n6  \\\n",
              "count       800000.000000  800000.000000  ...  759730.000000  759730.000000   \n",
              "mean             1.009683       0.199513  ...       8.107937       8.575994   \n",
              "std              0.782716       0.399634  ...       4.799210       7.400536   \n",
              "min              0.000000       0.000000  ...       0.000000       0.000000   \n",
              "25%              0.000000       0.000000  ...       5.000000       4.000000   \n",
              "50%              1.000000       0.000000  ...       7.000000       7.000000   \n",
              "75%              2.000000       0.000000  ...      11.000000      11.000000   \n",
              "max              2.000000       1.000000  ...      70.000000     132.000000   \n",
              "\n",
              "                  n7             n8             n9            n10  \\\n",
              "count  759730.000000  759729.000000  759730.000000  766761.000000   \n",
              "mean        8.282953      14.622488       5.592345      11.643896   \n",
              "std         4.561689       8.124610       3.216184       5.484104   \n",
              "min         0.000000       1.000000       0.000000       0.000000   \n",
              "25%         5.000000       9.000000       3.000000       8.000000   \n",
              "50%         7.000000      13.000000       5.000000      11.000000   \n",
              "75%        10.000000      19.000000       7.000000      14.000000   \n",
              "max        79.000000     128.000000      45.000000      82.000000   \n",
              "\n",
              "                 n11            n12            n13            n14  \n",
              "count  730248.000000  759730.000000  759730.000000  759730.000000  \n",
              "mean        0.000815       0.003384       0.089366       2.178606  \n",
              "std         0.030075       0.062041       0.509069       1.844377  \n",
              "min         0.000000       0.000000       0.000000       0.000000  \n",
              "25%         0.000000       0.000000       0.000000       1.000000  \n",
              "50%         0.000000       0.000000       0.000000       2.000000  \n",
              "75%         0.000000       0.000000       0.000000       3.000000  \n",
              "max         4.000000       4.000000      39.000000      30.000000  \n",
              "\n",
              "[8 rows x 42 columns]"
            ],
            "text/html": [
              "\n",
              "  <div id=\"df-3c1056ac-4eda-4475-b008-b69566ab9cc0\">\n",
              "    <div class=\"colab-df-container\">\n",
              "      <div>\n",
              "<style scoped>\n",
              "    .dataframe tbody tr th:only-of-type {\n",
              "        vertical-align: middle;\n",
              "    }\n",
              "\n",
              "    .dataframe tbody tr th {\n",
              "        vertical-align: top;\n",
              "    }\n",
              "\n",
              "    .dataframe thead th {\n",
              "        text-align: right;\n",
              "    }\n",
              "</style>\n",
              "<table border=\"1\" class=\"dataframe\">\n",
              "  <thead>\n",
              "    <tr style=\"text-align: right;\">\n",
              "      <th></th>\n",
              "      <th>id</th>\n",
              "      <th>loanAmnt</th>\n",
              "      <th>term</th>\n",
              "      <th>interestRate</th>\n",
              "      <th>installment</th>\n",
              "      <th>employmentTitle</th>\n",
              "      <th>homeOwnership</th>\n",
              "      <th>annualIncome</th>\n",
              "      <th>verificationStatus</th>\n",
              "      <th>isDefault</th>\n",
              "      <th>...</th>\n",
              "      <th>n5</th>\n",
              "      <th>n6</th>\n",
              "      <th>n7</th>\n",
              "      <th>n8</th>\n",
              "      <th>n9</th>\n",
              "      <th>n10</th>\n",
              "      <th>n11</th>\n",
              "      <th>n12</th>\n",
              "      <th>n13</th>\n",
              "      <th>n14</th>\n",
              "    </tr>\n",
              "  </thead>\n",
              "  <tbody>\n",
              "    <tr>\n",
              "      <th>count</th>\n",
              "      <td>800000.000000</td>\n",
              "      <td>800000.000000</td>\n",
              "      <td>800000.000000</td>\n",
              "      <td>800000.000000</td>\n",
              "      <td>800000.000000</td>\n",
              "      <td>799999.000000</td>\n",
              "      <td>800000.000000</td>\n",
              "      <td>8.000000e+05</td>\n",
              "      <td>800000.000000</td>\n",
              "      <td>800000.000000</td>\n",
              "      <td>...</td>\n",
              "      <td>759730.000000</td>\n",
              "      <td>759730.000000</td>\n",
              "      <td>759730.000000</td>\n",
              "      <td>759729.000000</td>\n",
              "      <td>759730.000000</td>\n",
              "      <td>766761.000000</td>\n",
              "      <td>730248.000000</td>\n",
              "      <td>759730.000000</td>\n",
              "      <td>759730.000000</td>\n",
              "      <td>759730.000000</td>\n",
              "    </tr>\n",
              "    <tr>\n",
              "      <th>mean</th>\n",
              "      <td>399999.500000</td>\n",
              "      <td>14416.818875</td>\n",
              "      <td>3.482745</td>\n",
              "      <td>13.238391</td>\n",
              "      <td>437.947723</td>\n",
              "      <td>72005.351714</td>\n",
              "      <td>0.614213</td>\n",
              "      <td>7.613391e+04</td>\n",
              "      <td>1.009683</td>\n",
              "      <td>0.199513</td>\n",
              "      <td>...</td>\n",
              "      <td>8.107937</td>\n",
              "      <td>8.575994</td>\n",
              "      <td>8.282953</td>\n",
              "      <td>14.622488</td>\n",
              "      <td>5.592345</td>\n",
              "      <td>11.643896</td>\n",
              "      <td>0.000815</td>\n",
              "      <td>0.003384</td>\n",
              "      <td>0.089366</td>\n",
              "      <td>2.178606</td>\n",
              "    </tr>\n",
              "    <tr>\n",
              "      <th>std</th>\n",
              "      <td>230940.252013</td>\n",
              "      <td>8716.086178</td>\n",
              "      <td>0.855832</td>\n",
              "      <td>4.765757</td>\n",
              "      <td>261.460393</td>\n",
              "      <td>106585.640204</td>\n",
              "      <td>0.675749</td>\n",
              "      <td>6.894751e+04</td>\n",
              "      <td>0.782716</td>\n",
              "      <td>0.399634</td>\n",
              "      <td>...</td>\n",
              "      <td>4.799210</td>\n",
              "      <td>7.400536</td>\n",
              "      <td>4.561689</td>\n",
              "      <td>8.124610</td>\n",
              "      <td>3.216184</td>\n",
              "      <td>5.484104</td>\n",
              "      <td>0.030075</td>\n",
              "      <td>0.062041</td>\n",
              "      <td>0.509069</td>\n",
              "      <td>1.844377</td>\n",
              "    </tr>\n",
              "    <tr>\n",
              "      <th>min</th>\n",
              "      <td>0.000000</td>\n",
              "      <td>500.000000</td>\n",
              "      <td>3.000000</td>\n",
              "      <td>5.310000</td>\n",
              "      <td>15.690000</td>\n",
              "      <td>0.000000</td>\n",
              "      <td>0.000000</td>\n",
              "      <td>0.000000e+00</td>\n",
              "      <td>0.000000</td>\n",
              "      <td>0.000000</td>\n",
              "      <td>...</td>\n",
              "      <td>0.000000</td>\n",
              "      <td>0.000000</td>\n",
              "      <td>0.000000</td>\n",
              "      <td>1.000000</td>\n",
              "      <td>0.000000</td>\n",
              "      <td>0.000000</td>\n",
              "      <td>0.000000</td>\n",
              "      <td>0.000000</td>\n",
              "      <td>0.000000</td>\n",
              "      <td>0.000000</td>\n",
              "    </tr>\n",
              "    <tr>\n",
              "      <th>25%</th>\n",
              "      <td>199999.750000</td>\n",
              "      <td>8000.000000</td>\n",
              "      <td>3.000000</td>\n",
              "      <td>9.750000</td>\n",
              "      <td>248.450000</td>\n",
              "      <td>427.000000</td>\n",
              "      <td>0.000000</td>\n",
              "      <td>4.560000e+04</td>\n",
              "      <td>0.000000</td>\n",
              "      <td>0.000000</td>\n",
              "      <td>...</td>\n",
              "      <td>5.000000</td>\n",
              "      <td>4.000000</td>\n",
              "      <td>5.000000</td>\n",
              "      <td>9.000000</td>\n",
              "      <td>3.000000</td>\n",
              "      <td>8.000000</td>\n",
              "      <td>0.000000</td>\n",
              "      <td>0.000000</td>\n",
              "      <td>0.000000</td>\n",
              "      <td>1.000000</td>\n",
              "    </tr>\n",
              "    <tr>\n",
              "      <th>50%</th>\n",
              "      <td>399999.500000</td>\n",
              "      <td>12000.000000</td>\n",
              "      <td>3.000000</td>\n",
              "      <td>12.740000</td>\n",
              "      <td>375.135000</td>\n",
              "      <td>7755.000000</td>\n",
              "      <td>1.000000</td>\n",
              "      <td>6.500000e+04</td>\n",
              "      <td>1.000000</td>\n",
              "      <td>0.000000</td>\n",
              "      <td>...</td>\n",
              "      <td>7.000000</td>\n",
              "      <td>7.000000</td>\n",
              "      <td>7.000000</td>\n",
              "      <td>13.000000</td>\n",
              "      <td>5.000000</td>\n",
              "      <td>11.000000</td>\n",
              "      <td>0.000000</td>\n",
              "      <td>0.000000</td>\n",
              "      <td>0.000000</td>\n",
              "      <td>2.000000</td>\n",
              "    </tr>\n",
              "    <tr>\n",
              "      <th>75%</th>\n",
              "      <td>599999.250000</td>\n",
              "      <td>20000.000000</td>\n",
              "      <td>3.000000</td>\n",
              "      <td>15.990000</td>\n",
              "      <td>580.710000</td>\n",
              "      <td>117663.500000</td>\n",
              "      <td>1.000000</td>\n",
              "      <td>9.000000e+04</td>\n",
              "      <td>2.000000</td>\n",
              "      <td>0.000000</td>\n",
              "      <td>...</td>\n",
              "      <td>11.000000</td>\n",
              "      <td>11.000000</td>\n",
              "      <td>10.000000</td>\n",
              "      <td>19.000000</td>\n",
              "      <td>7.000000</td>\n",
              "      <td>14.000000</td>\n",
              "      <td>0.000000</td>\n",
              "      <td>0.000000</td>\n",
              "      <td>0.000000</td>\n",
              "      <td>3.000000</td>\n",
              "    </tr>\n",
              "    <tr>\n",
              "      <th>max</th>\n",
              "      <td>799999.000000</td>\n",
              "      <td>40000.000000</td>\n",
              "      <td>5.000000</td>\n",
              "      <td>30.990000</td>\n",
              "      <td>1715.420000</td>\n",
              "      <td>378351.000000</td>\n",
              "      <td>5.000000</td>\n",
              "      <td>1.099920e+07</td>\n",
              "      <td>2.000000</td>\n",
              "      <td>1.000000</td>\n",
              "      <td>...</td>\n",
              "      <td>70.000000</td>\n",
              "      <td>132.000000</td>\n",
              "      <td>79.000000</td>\n",
              "      <td>128.000000</td>\n",
              "      <td>45.000000</td>\n",
              "      <td>82.000000</td>\n",
              "      <td>4.000000</td>\n",
              "      <td>4.000000</td>\n",
              "      <td>39.000000</td>\n",
              "      <td>30.000000</td>\n",
              "    </tr>\n",
              "  </tbody>\n",
              "</table>\n",
              "<p>8 rows × 42 columns</p>\n",
              "</div>\n",
              "      <button class=\"colab-df-convert\" onclick=\"convertToInteractive('df-3c1056ac-4eda-4475-b008-b69566ab9cc0')\"\n",
              "              title=\"Convert this dataframe to an interactive table.\"\n",
              "              style=\"display:none;\">\n",
              "        \n",
              "  <svg xmlns=\"http://www.w3.org/2000/svg\" height=\"24px\"viewBox=\"0 0 24 24\"\n",
              "       width=\"24px\">\n",
              "    <path d=\"M0 0h24v24H0V0z\" fill=\"none\"/>\n",
              "    <path d=\"M18.56 5.44l.94 2.06.94-2.06 2.06-.94-2.06-.94-.94-2.06-.94 2.06-2.06.94zm-11 1L8.5 8.5l.94-2.06 2.06-.94-2.06-.94L8.5 2.5l-.94 2.06-2.06.94zm10 10l.94 2.06.94-2.06 2.06-.94-2.06-.94-.94-2.06-.94 2.06-2.06.94z\"/><path d=\"M17.41 7.96l-1.37-1.37c-.4-.4-.92-.59-1.43-.59-.52 0-1.04.2-1.43.59L10.3 9.45l-7.72 7.72c-.78.78-.78 2.05 0 2.83L4 21.41c.39.39.9.59 1.41.59.51 0 1.02-.2 1.41-.59l7.78-7.78 2.81-2.81c.8-.78.8-2.07 0-2.86zM5.41 20L4 18.59l7.72-7.72 1.47 1.35L5.41 20z\"/>\n",
              "  </svg>\n",
              "      </button>\n",
              "      \n",
              "  <style>\n",
              "    .colab-df-container {\n",
              "      display:flex;\n",
              "      flex-wrap:wrap;\n",
              "      gap: 12px;\n",
              "    }\n",
              "\n",
              "    .colab-df-convert {\n",
              "      background-color: #E8F0FE;\n",
              "      border: none;\n",
              "      border-radius: 50%;\n",
              "      cursor: pointer;\n",
              "      display: none;\n",
              "      fill: #1967D2;\n",
              "      height: 32px;\n",
              "      padding: 0 0 0 0;\n",
              "      width: 32px;\n",
              "    }\n",
              "\n",
              "    .colab-df-convert:hover {\n",
              "      background-color: #E2EBFA;\n",
              "      box-shadow: 0px 1px 2px rgba(60, 64, 67, 0.3), 0px 1px 3px 1px rgba(60, 64, 67, 0.15);\n",
              "      fill: #174EA6;\n",
              "    }\n",
              "\n",
              "    [theme=dark] .colab-df-convert {\n",
              "      background-color: #3B4455;\n",
              "      fill: #D2E3FC;\n",
              "    }\n",
              "\n",
              "    [theme=dark] .colab-df-convert:hover {\n",
              "      background-color: #434B5C;\n",
              "      box-shadow: 0px 1px 3px 1px rgba(0, 0, 0, 0.15);\n",
              "      filter: drop-shadow(0px 1px 2px rgba(0, 0, 0, 0.3));\n",
              "      fill: #FFFFFF;\n",
              "    }\n",
              "  </style>\n",
              "\n",
              "      <script>\n",
              "        const buttonEl =\n",
              "          document.querySelector('#df-3c1056ac-4eda-4475-b008-b69566ab9cc0 button.colab-df-convert');\n",
              "        buttonEl.style.display =\n",
              "          google.colab.kernel.accessAllowed ? 'block' : 'none';\n",
              "\n",
              "        async function convertToInteractive(key) {\n",
              "          const element = document.querySelector('#df-3c1056ac-4eda-4475-b008-b69566ab9cc0');\n",
              "          const dataTable =\n",
              "            await google.colab.kernel.invokeFunction('convertToInteractive',\n",
              "                                                     [key], {});\n",
              "          if (!dataTable) return;\n",
              "\n",
              "          const docLinkHtml = 'Like what you see? Visit the ' +\n",
              "            '<a target=\"_blank\" href=https://colab.research.google.com/notebooks/data_table.ipynb>data table notebook</a>'\n",
              "            + ' to learn more about interactive tables.';\n",
              "          element.innerHTML = '';\n",
              "          dataTable['output_type'] = 'display_data';\n",
              "          await google.colab.output.renderOutput(dataTable, element);\n",
              "          const docLink = document.createElement('div');\n",
              "          docLink.innerHTML = docLinkHtml;\n",
              "          element.appendChild(docLink);\n",
              "        }\n",
              "      </script>\n",
              "    </div>\n",
              "  </div>\n",
              "  "
            ]
          },
          "metadata": {},
          "execution_count": 12
        }
      ]
    },
    {
      "cell_type": "code",
      "source": [
        "data_train.head(3).append(data_train.tail(3))"
      ],
      "metadata": {
        "colab": {
          "base_uri": "https://localhost:8080/",
          "height": 331
        },
        "id": "iX5JT5Q526g-",
        "outputId": "50b79ecc-b189-4a5e-9f9d-c2a1aa48b3a1"
      },
      "execution_count": 13,
      "outputs": [
        {
          "output_type": "execute_result",
          "data": {
            "text/plain": [
              "            id  loanAmnt  term  interestRate  installment grade subGrade  \\\n",
              "0            0   35000.0     5         19.52       917.97     E       E2   \n",
              "1            1   18000.0     5         18.49       461.90     D       D2   \n",
              "2            2   12000.0     5         16.99       298.17     D       D3   \n",
              "799997  799997    6000.0     3         13.33       203.12     C       C3   \n",
              "799998  799998   19200.0     3          6.92       592.14     A       A4   \n",
              "799999  799999    9000.0     3         11.06       294.91     B       B3   \n",
              "\n",
              "        employmentTitle employmentLength  homeOwnership  ...    n5    n6  \\\n",
              "0                 320.0          2 years              2  ...   9.0   8.0   \n",
              "1              219843.0          5 years              0  ...   NaN   NaN   \n",
              "2               31698.0          8 years              0  ...   0.0  21.0   \n",
              "799997           2582.0        10+ years              1  ...   4.0  26.0   \n",
              "799998            151.0        10+ years              0  ...  10.0   6.0   \n",
              "799999             13.0          5 years              0  ...   3.0   4.0   \n",
              "\n",
              "          n7    n8   n9   n10  n11  n12  n13  n14  \n",
              "0        4.0  12.0  2.0   7.0  0.0  0.0  0.0  2.0  \n",
              "1        NaN   NaN  NaN  13.0  NaN  NaN  NaN  NaN  \n",
              "2        4.0   5.0  3.0  11.0  0.0  0.0  0.0  4.0  \n",
              "799997   4.0  10.0  4.0   5.0  0.0  0.0  1.0  4.0  \n",
              "799998  12.0  22.0  8.0  16.0  0.0  0.0  0.0  5.0  \n",
              "799999   4.0   8.0  3.0   7.0  0.0  0.0  0.0  2.0  \n",
              "\n",
              "[6 rows x 47 columns]"
            ],
            "text/html": [
              "\n",
              "  <div id=\"df-240cf6ed-2869-4ec4-9ae4-f0bf60f54fd2\">\n",
              "    <div class=\"colab-df-container\">\n",
              "      <div>\n",
              "<style scoped>\n",
              "    .dataframe tbody tr th:only-of-type {\n",
              "        vertical-align: middle;\n",
              "    }\n",
              "\n",
              "    .dataframe tbody tr th {\n",
              "        vertical-align: top;\n",
              "    }\n",
              "\n",
              "    .dataframe thead th {\n",
              "        text-align: right;\n",
              "    }\n",
              "</style>\n",
              "<table border=\"1\" class=\"dataframe\">\n",
              "  <thead>\n",
              "    <tr style=\"text-align: right;\">\n",
              "      <th></th>\n",
              "      <th>id</th>\n",
              "      <th>loanAmnt</th>\n",
              "      <th>term</th>\n",
              "      <th>interestRate</th>\n",
              "      <th>installment</th>\n",
              "      <th>grade</th>\n",
              "      <th>subGrade</th>\n",
              "      <th>employmentTitle</th>\n",
              "      <th>employmentLength</th>\n",
              "      <th>homeOwnership</th>\n",
              "      <th>...</th>\n",
              "      <th>n5</th>\n",
              "      <th>n6</th>\n",
              "      <th>n7</th>\n",
              "      <th>n8</th>\n",
              "      <th>n9</th>\n",
              "      <th>n10</th>\n",
              "      <th>n11</th>\n",
              "      <th>n12</th>\n",
              "      <th>n13</th>\n",
              "      <th>n14</th>\n",
              "    </tr>\n",
              "  </thead>\n",
              "  <tbody>\n",
              "    <tr>\n",
              "      <th>0</th>\n",
              "      <td>0</td>\n",
              "      <td>35000.0</td>\n",
              "      <td>5</td>\n",
              "      <td>19.52</td>\n",
              "      <td>917.97</td>\n",
              "      <td>E</td>\n",
              "      <td>E2</td>\n",
              "      <td>320.0</td>\n",
              "      <td>2 years</td>\n",
              "      <td>2</td>\n",
              "      <td>...</td>\n",
              "      <td>9.0</td>\n",
              "      <td>8.0</td>\n",
              "      <td>4.0</td>\n",
              "      <td>12.0</td>\n",
              "      <td>2.0</td>\n",
              "      <td>7.0</td>\n",
              "      <td>0.0</td>\n",
              "      <td>0.0</td>\n",
              "      <td>0.0</td>\n",
              "      <td>2.0</td>\n",
              "    </tr>\n",
              "    <tr>\n",
              "      <th>1</th>\n",
              "      <td>1</td>\n",
              "      <td>18000.0</td>\n",
              "      <td>5</td>\n",
              "      <td>18.49</td>\n",
              "      <td>461.90</td>\n",
              "      <td>D</td>\n",
              "      <td>D2</td>\n",
              "      <td>219843.0</td>\n",
              "      <td>5 years</td>\n",
              "      <td>0</td>\n",
              "      <td>...</td>\n",
              "      <td>NaN</td>\n",
              "      <td>NaN</td>\n",
              "      <td>NaN</td>\n",
              "      <td>NaN</td>\n",
              "      <td>NaN</td>\n",
              "      <td>13.0</td>\n",
              "      <td>NaN</td>\n",
              "      <td>NaN</td>\n",
              "      <td>NaN</td>\n",
              "      <td>NaN</td>\n",
              "    </tr>\n",
              "    <tr>\n",
              "      <th>2</th>\n",
              "      <td>2</td>\n",
              "      <td>12000.0</td>\n",
              "      <td>5</td>\n",
              "      <td>16.99</td>\n",
              "      <td>298.17</td>\n",
              "      <td>D</td>\n",
              "      <td>D3</td>\n",
              "      <td>31698.0</td>\n",
              "      <td>8 years</td>\n",
              "      <td>0</td>\n",
              "      <td>...</td>\n",
              "      <td>0.0</td>\n",
              "      <td>21.0</td>\n",
              "      <td>4.0</td>\n",
              "      <td>5.0</td>\n",
              "      <td>3.0</td>\n",
              "      <td>11.0</td>\n",
              "      <td>0.0</td>\n",
              "      <td>0.0</td>\n",
              "      <td>0.0</td>\n",
              "      <td>4.0</td>\n",
              "    </tr>\n",
              "    <tr>\n",
              "      <th>799997</th>\n",
              "      <td>799997</td>\n",
              "      <td>6000.0</td>\n",
              "      <td>3</td>\n",
              "      <td>13.33</td>\n",
              "      <td>203.12</td>\n",
              "      <td>C</td>\n",
              "      <td>C3</td>\n",
              "      <td>2582.0</td>\n",
              "      <td>10+ years</td>\n",
              "      <td>1</td>\n",
              "      <td>...</td>\n",
              "      <td>4.0</td>\n",
              "      <td>26.0</td>\n",
              "      <td>4.0</td>\n",
              "      <td>10.0</td>\n",
              "      <td>4.0</td>\n",
              "      <td>5.0</td>\n",
              "      <td>0.0</td>\n",
              "      <td>0.0</td>\n",
              "      <td>1.0</td>\n",
              "      <td>4.0</td>\n",
              "    </tr>\n",
              "    <tr>\n",
              "      <th>799998</th>\n",
              "      <td>799998</td>\n",
              "      <td>19200.0</td>\n",
              "      <td>3</td>\n",
              "      <td>6.92</td>\n",
              "      <td>592.14</td>\n",
              "      <td>A</td>\n",
              "      <td>A4</td>\n",
              "      <td>151.0</td>\n",
              "      <td>10+ years</td>\n",
              "      <td>0</td>\n",
              "      <td>...</td>\n",
              "      <td>10.0</td>\n",
              "      <td>6.0</td>\n",
              "      <td>12.0</td>\n",
              "      <td>22.0</td>\n",
              "      <td>8.0</td>\n",
              "      <td>16.0</td>\n",
              "      <td>0.0</td>\n",
              "      <td>0.0</td>\n",
              "      <td>0.0</td>\n",
              "      <td>5.0</td>\n",
              "    </tr>\n",
              "    <tr>\n",
              "      <th>799999</th>\n",
              "      <td>799999</td>\n",
              "      <td>9000.0</td>\n",
              "      <td>3</td>\n",
              "      <td>11.06</td>\n",
              "      <td>294.91</td>\n",
              "      <td>B</td>\n",
              "      <td>B3</td>\n",
              "      <td>13.0</td>\n",
              "      <td>5 years</td>\n",
              "      <td>0</td>\n",
              "      <td>...</td>\n",
              "      <td>3.0</td>\n",
              "      <td>4.0</td>\n",
              "      <td>4.0</td>\n",
              "      <td>8.0</td>\n",
              "      <td>3.0</td>\n",
              "      <td>7.0</td>\n",
              "      <td>0.0</td>\n",
              "      <td>0.0</td>\n",
              "      <td>0.0</td>\n",
              "      <td>2.0</td>\n",
              "    </tr>\n",
              "  </tbody>\n",
              "</table>\n",
              "<p>6 rows × 47 columns</p>\n",
              "</div>\n",
              "      <button class=\"colab-df-convert\" onclick=\"convertToInteractive('df-240cf6ed-2869-4ec4-9ae4-f0bf60f54fd2')\"\n",
              "              title=\"Convert this dataframe to an interactive table.\"\n",
              "              style=\"display:none;\">\n",
              "        \n",
              "  <svg xmlns=\"http://www.w3.org/2000/svg\" height=\"24px\"viewBox=\"0 0 24 24\"\n",
              "       width=\"24px\">\n",
              "    <path d=\"M0 0h24v24H0V0z\" fill=\"none\"/>\n",
              "    <path d=\"M18.56 5.44l.94 2.06.94-2.06 2.06-.94-2.06-.94-.94-2.06-.94 2.06-2.06.94zm-11 1L8.5 8.5l.94-2.06 2.06-.94-2.06-.94L8.5 2.5l-.94 2.06-2.06.94zm10 10l.94 2.06.94-2.06 2.06-.94-2.06-.94-.94-2.06-.94 2.06-2.06.94z\"/><path d=\"M17.41 7.96l-1.37-1.37c-.4-.4-.92-.59-1.43-.59-.52 0-1.04.2-1.43.59L10.3 9.45l-7.72 7.72c-.78.78-.78 2.05 0 2.83L4 21.41c.39.39.9.59 1.41.59.51 0 1.02-.2 1.41-.59l7.78-7.78 2.81-2.81c.8-.78.8-2.07 0-2.86zM5.41 20L4 18.59l7.72-7.72 1.47 1.35L5.41 20z\"/>\n",
              "  </svg>\n",
              "      </button>\n",
              "      \n",
              "  <style>\n",
              "    .colab-df-container {\n",
              "      display:flex;\n",
              "      flex-wrap:wrap;\n",
              "      gap: 12px;\n",
              "    }\n",
              "\n",
              "    .colab-df-convert {\n",
              "      background-color: #E8F0FE;\n",
              "      border: none;\n",
              "      border-radius: 50%;\n",
              "      cursor: pointer;\n",
              "      display: none;\n",
              "      fill: #1967D2;\n",
              "      height: 32px;\n",
              "      padding: 0 0 0 0;\n",
              "      width: 32px;\n",
              "    }\n",
              "\n",
              "    .colab-df-convert:hover {\n",
              "      background-color: #E2EBFA;\n",
              "      box-shadow: 0px 1px 2px rgba(60, 64, 67, 0.3), 0px 1px 3px 1px rgba(60, 64, 67, 0.15);\n",
              "      fill: #174EA6;\n",
              "    }\n",
              "\n",
              "    [theme=dark] .colab-df-convert {\n",
              "      background-color: #3B4455;\n",
              "      fill: #D2E3FC;\n",
              "    }\n",
              "\n",
              "    [theme=dark] .colab-df-convert:hover {\n",
              "      background-color: #434B5C;\n",
              "      box-shadow: 0px 1px 3px 1px rgba(0, 0, 0, 0.15);\n",
              "      filter: drop-shadow(0px 1px 2px rgba(0, 0, 0, 0.3));\n",
              "      fill: #FFFFFF;\n",
              "    }\n",
              "  </style>\n",
              "\n",
              "      <script>\n",
              "        const buttonEl =\n",
              "          document.querySelector('#df-240cf6ed-2869-4ec4-9ae4-f0bf60f54fd2 button.colab-df-convert');\n",
              "        buttonEl.style.display =\n",
              "          google.colab.kernel.accessAllowed ? 'block' : 'none';\n",
              "\n",
              "        async function convertToInteractive(key) {\n",
              "          const element = document.querySelector('#df-240cf6ed-2869-4ec4-9ae4-f0bf60f54fd2');\n",
              "          const dataTable =\n",
              "            await google.colab.kernel.invokeFunction('convertToInteractive',\n",
              "                                                     [key], {});\n",
              "          if (!dataTable) return;\n",
              "\n",
              "          const docLinkHtml = 'Like what you see? Visit the ' +\n",
              "            '<a target=\"_blank\" href=https://colab.research.google.com/notebooks/data_table.ipynb>data table notebook</a>'\n",
              "            + ' to learn more about interactive tables.';\n",
              "          element.innerHTML = '';\n",
              "          dataTable['output_type'] = 'display_data';\n",
              "          await google.colab.output.renderOutput(dataTable, element);\n",
              "          const docLink = document.createElement('div');\n",
              "          docLink.innerHTML = docLinkHtml;\n",
              "          element.appendChild(docLink);\n",
              "        }\n",
              "      </script>\n",
              "    </div>\n",
              "  </div>\n",
              "  "
            ]
          },
          "metadata": {},
          "execution_count": 13
        }
      ]
    },
    {
      "cell_type": "code",
      "source": [
        "print(f'There are {data_train.isnull().any().sum()} columns in train dataset with missing values.')"
      ],
      "metadata": {
        "colab": {
          "base_uri": "https://localhost:8080/"
        },
        "id": "JNhFsZUJ3IPv",
        "outputId": "20654ec2-a223-4d15-f6bd-920eafa21d76"
      },
      "execution_count": 14,
      "outputs": [
        {
          "output_type": "stream",
          "name": "stdout",
          "text": [
            "There are 22 columns in train dataset with missing values.\n"
          ]
        }
      ]
    },
    {
      "cell_type": "code",
      "source": [
        "have_null_fea_dict = (data_train.isnull().sum()/len(data_train)).to_dict()\n",
        "fea_null_moreThanHalf = {}\n",
        "for key,value in have_null_fea_dict.items():\n",
        "    if value > 0.5:\n",
        "        fea_null_moreThanHalf[key] = value"
      ],
      "metadata": {
        "id": "B1jZwAOQ4vJG"
      },
      "execution_count": 15,
      "outputs": []
    },
    {
      "cell_type": "code",
      "source": [
        "fea_null_moreThanHalf"
      ],
      "metadata": {
        "colab": {
          "base_uri": "https://localhost:8080/"
        },
        "id": "eYrVoVUF406q",
        "outputId": "7dc0756c-6ef4-41c0-9f05-6e1ce3cdd8ec"
      },
      "execution_count": 16,
      "outputs": [
        {
          "output_type": "execute_result",
          "data": {
            "text/plain": [
              "{}"
            ]
          },
          "metadata": {},
          "execution_count": 16
        }
      ]
    },
    {
      "cell_type": "code",
      "source": [
        "# nan可视化\n",
        "missing = data_train.isnull().sum()/len(data_train)\n",
        "missing = missing[missing > 0]\n",
        "missing.sort_values(inplace=True)\n",
        "missing.plot.bar()"
      ],
      "metadata": {
        "colab": {
          "base_uri": "https://localhost:8080/",
          "height": 375
        },
        "id": "PnGCF79-43CE",
        "outputId": "025bf435-2c29-4a78-d4f9-3c40b717162f"
      },
      "execution_count": 17,
      "outputs": [
        {
          "output_type": "execute_result",
          "data": {
            "text/plain": [
              "<matplotlib.axes._subplots.AxesSubplot at 0x7ff626972f90>"
            ]
          },
          "metadata": {},
          "execution_count": 17
        },
        {
          "output_type": "display_data",
          "data": {
            "text/plain": [
              "<Figure size 432x288 with 1 Axes>"
            ],
            "image/png": "[encoded data removed]"
          },
          "metadata": {
            "needs_background": "light"
          }
        }
      ]
    },
    {
      "cell_type": "code",
      "source": [
        "one_value_fea = [col for col in data_train.columns if data_train[col].nunique() <= 1]"
      ],
      "metadata": {
        "id": "2zPl096i5Klj"
      },
      "execution_count": 18,
      "outputs": []
    },
    {
      "cell_type": "code",
      "source": [
        "one_value_fea_test = [col for col in data_test_a.columns if data_test_a[col].nunique() <= 1]"
      ],
      "metadata": {
        "id": "NeucwCF55b16"
      },
      "execution_count": 19,
      "outputs": []
    },
    {
      "cell_type": "code",
      "source": [
        "one_value_fea"
      ],
      "metadata": {
        "colab": {
          "base_uri": "https://localhost:8080/"
        },
        "id": "iRBDLjCg5dOF",
        "outputId": "430620c1-1240-47a9-d3b4-5f545b7f3b35"
      },
      "execution_count": 20,
      "outputs": [
        {
          "output_type": "execute_result",
          "data": {
            "text/plain": [
              "['policyCode']"
            ]
          },
          "metadata": {},
          "execution_count": 20
        }
      ]
    },
    {
      "cell_type": "code",
      "source": [
        "one_value_fea_test\n"
      ],
      "metadata": {
        "colab": {
          "base_uri": "https://localhost:8080/"
        },
        "id": "7NMWLRro5dqB",
        "outputId": "b08acd03-82ea-44d5-dbe7-960f7b9ce6c6"
      },
      "execution_count": 21,
      "outputs": [
        {
          "output_type": "execute_result",
          "data": {
            "text/plain": [
              "['policyCode']"
            ]
          },
          "metadata": {},
          "execution_count": 21
        }
      ]
    },
    {
      "cell_type": "code",
      "source": [
        "print(f'There are {len(one_value_fea)} columns in train dataset with one unique value.')\n",
        "print(f'There are {len(one_value_fea_test)} columns in test dataset with one unique value.')"
      ],
      "metadata": {
        "colab": {
          "base_uri": "https://localhost:8080/"
        },
        "id": "sylr1kuJ5hPh",
        "outputId": "b9173004-cbc3-4e52-833f-8ceac986bde3"
      },
      "execution_count": 22,
      "outputs": [
        {
          "output_type": "stream",
          "name": "stdout",
          "text": [
            "There are 1 columns in train dataset with one unique value.\n",
            "There are 1 columns in test dataset with one unique value.\n"
          ]
        }
      ]
    },
    {
      "cell_type": "code",
      "source": [
        "numerical_fea = list(data_train.select_dtypes(exclude=['object']).columns)\n",
        "category_fea = list(filter(lambda x: x not in numerical_fea,list(data_train.columns)))"
      ],
      "metadata": {
        "id": "xJfXe2F77z4t"
      },
      "execution_count": 23,
      "outputs": []
    },
    {
      "cell_type": "code",
      "source": [
        "numerical_fea"
      ],
      "metadata": {
        "colab": {
          "base_uri": "https://localhost:8080/"
        },
        "id": "-u5Thm_18ckU",
        "outputId": "84d1e768-6427-4174-ce8e-6a971c095404"
      },
      "execution_count": 24,
      "outputs": [
        {
          "output_type": "execute_result",
          "data": {
            "text/plain": [
              "['id',\n",
              " 'loanAmnt',\n",
              " 'term',\n",
              " 'interestRate',\n",
              " 'installment',\n",
              " 'employmentTitle',\n",
              " 'homeOwnership',\n",
              " 'annualIncome',\n",
              " 'verificationStatus',\n",
              " 'isDefault',\n",
              " 'purpose',\n",
              " 'postCode',\n",
              " 'regionCode',\n",
              " 'dti',\n",
              " 'delinquency_2years',\n",
              " 'ficoRangeLow',\n",
              " 'ficoRangeHigh',\n",
              " 'openAcc',\n",
              " 'pubRec',\n",
              " 'pubRecBankruptcies',\n",
              " 'revolBal',\n",
              " 'revolUtil',\n",
              " 'totalAcc',\n",
              " 'initialListStatus',\n",
              " 'applicationType',\n",
              " 'title',\n",
              " 'policyCode',\n",
              " 'n0',\n",
              " 'n1',\n",
              " 'n2',\n",
              " 'n3',\n",
              " 'n4',\n",
              " 'n5',\n",
              " 'n6',\n",
              " 'n7',\n",
              " 'n8',\n",
              " 'n9',\n",
              " 'n10',\n",
              " 'n11',\n",
              " 'n12',\n",
              " 'n13',\n",
              " 'n14']"
            ]
          },
          "metadata": {},
          "execution_count": 24
        }
      ]
    },
    {
      "cell_type": "code",
      "source": [
        "category_fea"
      ],
      "metadata": {
        "colab": {
          "base_uri": "https://localhost:8080/"
        },
        "id": "ELfHpucU8fl8",
        "outputId": "a2d1e5ca-132b-4b33-fedd-868debb06890"
      },
      "execution_count": 25,
      "outputs": [
        {
          "output_type": "execute_result",
          "data": {
            "text/plain": [
              "['grade', 'subGrade', 'employmentLength', 'issueDate', 'earliesCreditLine']"
            ]
          },
          "metadata": {},
          "execution_count": 25
        }
      ]
    },
    {
      "cell_type": "code",
      "source": [
        "data_train.subGrade"
      ],
      "metadata": {
        "colab": {
          "base_uri": "https://localhost:8080/"
        },
        "id": "I0MyV3vW8irs",
        "outputId": "cbce7dc0-7162-426c-d3e3-d214e9bf47ed"
      },
      "execution_count": 26,
      "outputs": [
        {
          "output_type": "execute_result",
          "data": {
            "text/plain": [
              "0         E2\n",
              "1         D2\n",
              "2         D3\n",
              "3         A4\n",
              "4         C2\n",
              "          ..\n",
              "799995    C4\n",
              "799996    A4\n",
              "799997    C3\n",
              "799998    A4\n",
              "799999    B3\n",
              "Name: subGrade, Length: 800000, dtype: object"
            ]
          },
          "metadata": {},
          "execution_count": 26
        }
      ]
    },
    {
      "cell_type": "code",
      "source": [
        "#过滤数值型类别特征\n",
        "def get_numerical_serial_fea(data,feas):\n",
        "    numerical_serial_fea = []\n",
        "    numerical_noserial_fea = []\n",
        "    for fea in feas:\n",
        "        temp = data[fea].nunique()\n",
        "        if temp <= 10:\n",
        "            numerical_noserial_fea.append(fea)\n",
        "            continue\n",
        "        numerical_serial_fea.append(fea)\n",
        "    return numerical_serial_fea,numerical_noserial_fea\n",
        "numerical_serial_fea,numerical_noserial_fea = get_numerical_serial_fea(data_train,numerical_fea)"
      ],
      "metadata": {
        "id": "sSavh1L58pwE"
      },
      "execution_count": 27,
      "outputs": []
    },
    {
      "cell_type": "code",
      "source": [
        "numerical_serial_fea"
      ],
      "metadata": {
        "colab": {
          "base_uri": "https://localhost:8080/"
        },
        "id": "VzzSReoP9HeV",
        "outputId": "1074ccc9-e8d6-4adf-e002-107689e141e1"
      },
      "execution_count": 28,
      "outputs": [
        {
          "output_type": "execute_result",
          "data": {
            "text/plain": [
              "['id',\n",
              " 'loanAmnt',\n",
              " 'interestRate',\n",
              " 'installment',\n",
              " 'employmentTitle',\n",
              " 'annualIncome',\n",
              " 'purpose',\n",
              " 'postCode',\n",
              " 'regionCode',\n",
              " 'dti',\n",
              " 'delinquency_2years',\n",
              " 'ficoRangeLow',\n",
              " 'ficoRangeHigh',\n",
              " 'openAcc',\n",
              " 'pubRec',\n",
              " 'pubRecBankruptcies',\n",
              " 'revolBal',\n",
              " 'revolUtil',\n",
              " 'totalAcc',\n",
              " 'title',\n",
              " 'n0',\n",
              " 'n1',\n",
              " 'n2',\n",
              " 'n3',\n",
              " 'n4',\n",
              " 'n5',\n",
              " 'n6',\n",
              " 'n7',\n",
              " 'n8',\n",
              " 'n9',\n",
              " 'n10',\n",
              " 'n13',\n",
              " 'n14']"
            ]
          },
          "metadata": {},
          "execution_count": 28
        }
      ]
    },
    {
      "cell_type": "code",
      "source": [
        "numerical_noserial_fea"
      ],
      "metadata": {
        "colab": {
          "base_uri": "https://localhost:8080/"
        },
        "id": "jcLRfNUU9I_0",
        "outputId": "b20658b2-6461-416b-962a-81685827bc3c"
      },
      "execution_count": 29,
      "outputs": [
        {
          "output_type": "execute_result",
          "data": {
            "text/plain": [
              "['term',\n",
              " 'homeOwnership',\n",
              " 'verificationStatus',\n",
              " 'isDefault',\n",
              " 'initialListStatus',\n",
              " 'applicationType',\n",
              " 'policyCode',\n",
              " 'n11',\n",
              " 'n12']"
            ]
          },
          "metadata": {},
          "execution_count": 29
        }
      ]
    },
    {
      "cell_type": "code",
      "source": [
        "data_train['term'].value_counts()#离散型变量"
      ],
      "metadata": {
        "colab": {
          "base_uri": "https://localhost:8080/"
        },
        "id": "rLxmmi3V9Qqd",
        "outputId": "5b94e05b-6ec8-4677-9909-62e2d9428454"
      },
      "execution_count": 30,
      "outputs": [
        {
          "output_type": "execute_result",
          "data": {
            "text/plain": [
              "3    606902\n",
              "5    193098\n",
              "Name: term, dtype: int64"
            ]
          },
          "metadata": {},
          "execution_count": 30
        }
      ]
    },
    {
      "cell_type": "code",
      "source": [
        "data_train['homeOwnership'].value_counts()#离散型变量"
      ],
      "metadata": {
        "colab": {
          "base_uri": "https://localhost:8080/"
        },
        "id": "GbnHbPrc9Sju",
        "outputId": "ae2c75d9-0ab0-4871-e88e-82a8801631f0"
      },
      "execution_count": 31,
      "outputs": [
        {
          "output_type": "execute_result",
          "data": {
            "text/plain": [
              "0    395732\n",
              "1    317660\n",
              "2     86309\n",
              "3       185\n",
              "5        81\n",
              "4        33\n",
              "Name: homeOwnership, dtype: int64"
            ]
          },
          "metadata": {},
          "execution_count": 31
        }
      ]
    },
    {
      "cell_type": "code",
      "source": [
        "data_train['n11'].value_counts()#离散型变量，相差悬殊，用不用再分析"
      ],
      "metadata": {
        "colab": {
          "base_uri": "https://localhost:8080/"
        },
        "id": "QVEh-QUg9W21",
        "outputId": "20645fb9-c44e-46f1-cc9a-314ab001906d"
      },
      "execution_count": 32,
      "outputs": [
        {
          "output_type": "execute_result",
          "data": {
            "text/plain": [
              "0.0    729682\n",
              "1.0       540\n",
              "2.0        24\n",
              "4.0         1\n",
              "3.0         1\n",
              "Name: n11, dtype: int64"
            ]
          },
          "metadata": {},
          "execution_count": 32
        }
      ]
    },
    {
      "cell_type": "code",
      "source": [
        "f = pd.melt(data_train, value_vars=numerical_serial_fea)\n",
        "g = sns.FacetGrid(f, col=\"variable\",  col_wrap=2, sharex=False, sharey=False)\n",
        "g = g.map(sns.distplot, \"value\")"
      ],
      "metadata": {
        "colab": {
          "base_uri": "https://localhost:8080/",
          "height": 1000
        },
        "id": "QKNfK0Wr9bn2",
        "outputId": "6865f823-0d1d-4970-9114-6a87b042e262"
      },
      "execution_count": 33,
      "outputs": [
        {
          "output_type": "display_data",
          "data": {
            "text/plain": [
              "<Figure size 432x3672 with 33 Axes>"
            ],
            "image/png": "[encoded data removed]"
          },
          "metadata": {
            "needs_background": "light"
          }
        }
      ]
    }
  ]
}