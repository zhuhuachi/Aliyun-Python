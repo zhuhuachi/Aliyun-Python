{
  "nbformat": 4,
  "nbformat_minor": 0,
  "metadata": {
    "colab": {
      "name": "moergage.ipynb",
      "provenance": [],
      "authorship_tag": "ABX9TyPbc/1AtSLxRn8/70RjvkUp",
      "include_colab_link": true
    },
    "kernelspec": {
      "name": "python3",
      "display_name": "Python 3"
    },
    "language_info": {
      "name": "python"
    }
  },
  "cells": [
    {
      "cell_type": "markdown",
      "metadata": {
        "id": "view-in-github",
        "colab_type": "text"
      },
      "source": [
        "<a href=\"https://colab.research.google.com/github/zhuhuachi/Aliyun-Python/blob/main/moergage.ipynb\" target=\"_parent\"><img src=\"https://colab.research.google.com/assets/colab-badge.svg\" alt=\"Open In Colab\"/></a>"
      ]
    },
    {
      "cell_type": "code",
      "execution_count": 1,
      "metadata": {
        "colab": {
          "base_uri": "https://localhost:8080/"
        },
        "id": "afeED56k4CTd",
        "outputId": "fa65854d-2968-4c86-e59d-519f74e371a8"
      },
      "outputs": [
        {
          "output_type": "stream",
          "name": "stdout",
          "text": [
            "Mounted at /content/drive\n"
          ]
        }
      ],
      "source": [
        "from google.colab import drive\n",
        "drive.mount('/content/drive')\n"
      ]
    },
    {
      "cell_type": "code",
      "source": [
        "pip install catboost"
      ],
      "metadata": {
        "colab": {
          "base_uri": "https://localhost:8080/"
        },
        "id": "sD-kJ5ee5cgQ",
        "outputId": "d77d2e8a-e3d9-4f5c-d468-5a8873667de4"
      },
      "execution_count": 4,
      "outputs": [
        {
          "output_type": "stream",
          "name": "stdout",
          "text": [
            "Looking in indexes: https://pypi.org/simple, https://us-python.pkg.dev/colab-wheels/public/simple/\n",
            "Collecting catboost\n",
            "  Downloading catboost-1.0.6-cp37-none-manylinux1_x86_64.whl (76.6 MB)\n",
            "\u001b[K     |████████████████████████████████| 76.6 MB 1.1 MB/s \n",
            "\u001b[?25hRequirement already satisfied: numpy>=1.16.0 in /usr/local/lib/python3.7/dist-packages (from catboost) (1.21.6)\n",
            "Requirement already satisfied: scipy in /usr/local/lib/python3.7/dist-packages (from catboost) (1.4.1)\n",
            "Requirement already satisfied: plotly in /usr/local/lib/python3.7/dist-packages (from catboost) (5.5.0)\n",
            "Requirement already satisfied: matplotlib in /usr/local/lib/python3.7/dist-packages (from catboost) (3.2.2)\n",
            "Requirement already satisfied: six in /usr/local/lib/python3.7/dist-packages (from catboost) (1.15.0)\n",
            "Requirement already satisfied: pandas>=0.24.0 in /usr/local/lib/python3.7/dist-packages (from catboost) (1.3.5)\n",
            "Requirement already satisfied: graphviz in /usr/local/lib/python3.7/dist-packages (from catboost) (0.10.1)\n",
            "Requirement already satisfied: pytz>=2017.3 in /usr/local/lib/python3.7/dist-packages (from pandas>=0.24.0->catboost) (2022.1)\n",
            "Requirement already satisfied: python-dateutil>=2.7.3 in /usr/local/lib/python3.7/dist-packages (from pandas>=0.24.0->catboost) (2.8.2)\n",
            "Requirement already satisfied: kiwisolver>=1.0.1 in /usr/local/lib/python3.7/dist-packages (from matplotlib->catboost) (1.4.3)\n",
            "Requirement already satisfied: pyparsing!=2.0.4,!=2.1.2,!=2.1.6,>=2.0.1 in /usr/local/lib/python3.7/dist-packages (from matplotlib->catboost) (3.0.9)\n",
            "Requirement already satisfied: cycler>=0.10 in /usr/local/lib/python3.7/dist-packages (from matplotlib->catboost) (0.11.0)\n",
            "Requirement already satisfied: typing-extensions in /usr/local/lib/python3.7/dist-packages (from kiwisolver>=1.0.1->matplotlib->catboost) (4.1.1)\n",
            "Requirement already satisfied: tenacity>=6.2.0 in /usr/local/lib/python3.7/dist-packages (from plotly->catboost) (8.0.1)\n",
            "Installing collected packages: catboost\n",
            "Successfully installed catboost-1.0.6\n"
          ]
        }
      ]
    },
    {
      "cell_type": "code",
      "source": [
        "from catboost import CatBoostClassifier"
      ],
      "metadata": {
        "id": "z27OSQvT5Rby"
      },
      "execution_count": 6,
      "outputs": []
    },
    {
      "cell_type": "code",
      "source": [
        "import pandas as pd\n",
        "import datetime\n",
        "import warnings\n",
        "warnings.filterwarnings('ignore')\n",
        "from sklearn.model_selection import StratifiedKFold\n",
        "#warnings.filterwarnings('ignore')\n",
        "#%matplotlib inline\n",
        "from sklearn.metrics import roc_auc_score\n",
        "## 数据降维处理的\n",
        "from sklearn.model_selection import train_test_split  \n",
        "from catboost import CatBoostClassifier\n",
        "train=pd.read_csv(\"/content/drive/MyDrive/train.csv\")\n",
        "testA=pd.read_csv(\"/content/drive/MyDrive/testA.csv\")\n",
        "\n",
        "numerical_fea = list(train.select_dtypes(exclude=['object']).columns)\n",
        "numerical_fea.remove('isDefault')\n",
        "train[numerical_fea] = train[numerical_fea].fillna(train[numerical_fea].median())\n",
        "testA[numerical_fea] = testA[numerical_fea].fillna(testA[numerical_fea].median())\n",
        "#issueDate\n",
        "for data in [train]:\n",
        "    data['issueDate'] = pd.to_datetime(data['issueDate'],format='%Y-%m-%d')\n",
        "    data['grade'] = data['grade'].map({'A':1,'B':2,'C':3,'D':4,'E':5,'F':6,'G':7})\n",
        "    data['employmentLength'] = data['employmentLength'].map({'1 year':1,'2 years':2,'3 years':3,'4 years':4,'5 years':5,'6 years':6,'7 years':7,'8 years':8,'9 years':9,'10+ years':10,'< 1 year':0})\n",
        "    data['subGrade'] = data['subGrade'].map({'E2':1,'D2':2,'D3':3,'A4':4,'C2':5,'A5':6,'C3':7,'B4':8,'B5':9,'E5':10,\n",
        "        'D4':11,'B3':12,'B2':13,'D1':14,'E1':15,'C5':16,'C1':17,'A2':18,'A3':19,'B1':20,\n",
        "        'E3':21,'F1':22,'C4':23,'A1':24,'D5':25,'F2':26,'E4':27,'F3':28,'G2':29,'F5':30,\n",
        "        'G3':31,'G1':32,'F4':33,'G4':34,'G5':35})\n",
        "    data['earliesCreditLine'] = data['earliesCreditLine'].apply(lambda s: int(s[-4:]))\n",
        "  #  data['n15']=data['n8']*data['n10']\n",
        "    \n",
        "for data in [testA]:\n",
        "    data['issueDate'] = pd.to_datetime(data['issueDate'],format='%Y-%m-%d')\n",
        "    data['grade'] = data['grade'].map({'A':1,'B':2,'C':3,'D':4,'E':5,'F':6,'G':7})\n",
        "    data['employmentLength'] = data['employmentLength'].map({'1 year':1,'2 years':2,'3 years':3,'4 years':4,'5 years':5,'6 years':6,'7 years':7,'8 years':8,'9 years':9,'10+ years':10,'< 1 year':0})\n",
        "    data['subGrade'] = data['subGrade'].map({'E2':1,'D2':2,'D3':3,'A4':4,'C2':5,'A5':6,'C3':7,'B4':8,'B5':9,'E5':10,\n",
        "        'D4':11,'B3':12,'B2':13,'D1':14,'E1':15,'C5':16,'C1':17,'A2':18,'A3':19,'B1':20,\n",
        "        'E3':21,'F1':22,'C4':23,'A1':24,'D5':25,'F2':26,'E4':27,'F3':28,'G2':29,'F5':30,\n",
        "        'G3':31,'G1':32,'F4':33,'G4':34,'G5':35})\n",
        "    data['earliesCreditLine'] = data['earliesCreditLine'].apply(lambda s: int(s[-4:]))\n",
        "\n",
        "print(\"数据预处理完成!\")  \n",
        "sub=testA[['id']].copy()\n",
        "sub['isDefault']=0\n",
        "testA=testA.drop(['id','issueDate'],axis=1)\n",
        "data_x=train.drop(['isDefault','id','issueDate'],axis=1)\n",
        "data_y=train[['isDefault']].copy()\n",
        "x, val_x, y, val_y = train_test_split(  \n",
        "    data_x,  \n",
        "    data_y,  \n",
        "    test_size=0.25,  \n",
        "    random_state=1,  \n",
        "    stratify=data_y\n",
        ")  \n",
        "\n",
        "col=['grade','subGrade','employmentTitle','homeOwnership','verificationStatus','purpose','postCode','regionCode',\n",
        "     'initialListStatus','applicationType','policyCode']\n",
        "for i in data_x.columns:\n",
        "    if i in col:\n",
        "        data_x[i] = data_x[i].astype('str')\n",
        "for i in testA.columns:\n",
        "    if i in col:\n",
        "        testA[i] = testA[i].astype('str')\n",
        "        \n",
        "model=CatBoostClassifier(\n",
        "            loss_function=\"Logloss\",\n",
        "            eval_metric=\"AUC\",\n",
        "            task_type=\"CPU\",\n",
        "            learning_rate=0.1,\n",
        "            iterations=500,\n",
        "            random_seed=2020,\n",
        "            od_type=\"Iter\",\n",
        "            depth=7)\n",
        "\n",
        "answers = []\n",
        "mean_score = 0\n",
        "n_folds = 5\n",
        "sk = StratifiedKFold(n_splits=n_folds, shuffle=True, random_state=2019)\n",
        "for train, test in sk.split(data_x, data_y):\n",
        "    x_train = data_x.iloc[train]\n",
        "    y_train = data_y.iloc[train]\n",
        "    x_test = data_x.iloc[test]\n",
        "    y_test = data_y.iloc[test]\n",
        "    clf = model.fit(x_train,y_train, eval_set=(x_test,y_test),verbose=500,cat_features=col)\n",
        "    yy_pred_valid=clf.predict(x_test,prediction_type='Probability')[:,-1]\n",
        "    print('cat验证的auc:{}'.format(roc_auc_score(y_test, yy_pred_valid)))\n",
        "    mean_score += roc_auc_score(y_test, yy_pred_valid) / n_folds\n",
        "    y_pred_valid = clf.predict(testA,prediction_type='Probability')[:,-1]\n",
        "    answers.append(y_pred_valid)\n",
        "print('mean valAuc:{}'.format(mean_score))\n",
        "cat_pre=sum(answers)/n_folds\n",
        "sub['isDefault']=cat_pre\n",
        "sub.to_csv('/content/drive/MyDrive/sample_submit.csv',index=False) \n",
        "\n"
      ],
      "metadata": {
        "colab": {
          "base_uri": "https://localhost:8080/"
        },
        "id": "tSCJ5oeA5B8w",
        "outputId": "08888e13-45ed-4de8-b368-4e767d8f0f00"
      },
      "execution_count": null,
      "outputs": [
        {
          "output_type": "stream",
          "name": "stdout",
          "text": [
            "数据预处理完成!\n",
            "0:\ttest: 0.6704362\tbest: 0.6704362 (0)\ttotal: 904ms\tremaining: 7m 31s\n"
          ]
        }
      ]
    }
  ]
}